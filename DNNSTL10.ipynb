{
  "cells": [
    {
      "cell_type": "code",
      "execution_count": null,
      "metadata": {
        "collapsed": true,
        "id": "V9S--xaBlOCK"
      },
      "outputs": [],
      "source": [
        "!pip install torch torchvision\n",
        "!pip install matplotlib"
      ]
    },
    {
      "cell_type": "code",
      "execution_count": null,
      "metadata": {
        "collapsed": true,
        "id": "TwF9vM99mj-v"
      },
      "outputs": [],
      "source": [
        "!pip install tensorflow"
      ]
    },
    {
      "cell_type": "code",
      "execution_count": null,
      "metadata": {
        "id": "cIRJJMx7kVwu"
      },
      "outputs": [],
      "source": [
        "import tensorflow as tf\n",
        "from tensorflow.keras.datasets import fashion_mnist\n",
        "from tensorflow.keras import models , layers\n",
        "from tensorflow.keras.models import Sequential\n",
        "from tensorflow.keras.layers import Dense, MaxPooling2D, Flatten, Conv2D, Dropout\n",
        "import matplotlib.pyplot as plt\n",
        "import numpy as np\n",
        "import random"
      ]
    },
    {
      "cell_type": "code",
      "execution_count": null,
      "metadata": {
        "id": "cVc6AjlwnC41",
        "colab": {
          "base_uri": "https://localhost:8080/"
        },
        "outputId": "f2054b39-18fd-4814-f460-92e21a5dfd60"
      },
      "outputs": [
        {
          "output_type": "stream",
          "name": "stdout",
          "text": [
            "Downloading data from https://storage.googleapis.com/tensorflow/tf-keras-datasets/train-labels-idx1-ubyte.gz\n",
            "\u001b[1m29515/29515\u001b[0m \u001b[32m━━━━━━━━━━━━━━━━━━━━\u001b[0m\u001b[37m\u001b[0m \u001b[1m0s\u001b[0m 0us/step\n",
            "Downloading data from https://storage.googleapis.com/tensorflow/tf-keras-datasets/train-images-idx3-ubyte.gz\n",
            "\u001b[1m26421880/26421880\u001b[0m \u001b[32m━━━━━━━━━━━━━━━━━━━━\u001b[0m\u001b[37m\u001b[0m \u001b[1m0s\u001b[0m 0us/step\n",
            "Downloading data from https://storage.googleapis.com/tensorflow/tf-keras-datasets/t10k-labels-idx1-ubyte.gz\n",
            "\u001b[1m5148/5148\u001b[0m \u001b[32m━━━━━━━━━━━━━━━━━━━━\u001b[0m\u001b[37m\u001b[0m \u001b[1m0s\u001b[0m 0us/step\n",
            "Downloading data from https://storage.googleapis.com/tensorflow/tf-keras-datasets/t10k-images-idx3-ubyte.gz\n",
            "\u001b[1m4422102/4422102\u001b[0m \u001b[32m━━━━━━━━━━━━━━━━━━━━\u001b[0m\u001b[37m\u001b[0m \u001b[1m0s\u001b[0m 0us/step\n"
          ]
        }
      ],
      "source": [
        "(X_train, Y_train), (X_test, Y_test) = fashion_mnist.load_data()"
      ]
    },
    {
      "cell_type": "code",
      "execution_count": null,
      "metadata": {
        "colab": {
          "base_uri": "https://localhost:8080/"
        },
        "id": "xbOvnsacnUPY",
        "outputId": "2c98fcb2-7e36-43ee-f001-1d34cfea89d2"
      },
      "outputs": [
        {
          "output_type": "execute_result",
          "data": {
            "text/plain": [
              "(60000, 28, 28)"
            ]
          },
          "metadata": {},
          "execution_count": 8
        }
      ],
      "source": [
        "X_train.shape"
      ]
    },
    {
      "cell_type": "code",
      "execution_count": null,
      "metadata": {
        "colab": {
          "base_uri": "https://localhost:8080/"
        },
        "id": "-QO7nkVUnPVk",
        "outputId": "6c71845c-5de5-4a9c-d3ff-6262a0cbee40"
      },
      "outputs": [
        {
          "output_type": "execute_result",
          "data": {
            "text/plain": [
              "(10000, 28, 28)"
            ]
          },
          "metadata": {},
          "execution_count": 9
        }
      ],
      "source": [
        "X_test.shape"
      ]
    },
    {
      "cell_type": "code",
      "execution_count": null,
      "metadata": {
        "colab": {
          "base_uri": "https://localhost:8080/",
          "height": 68
        },
        "id": "heq5ULV_pSY5",
        "outputId": "620a75b5-eae5-480e-8329-f21d7d9cb215"
      },
      "outputs": [
        {
          "output_type": "execute_result",
          "data": {
            "text/plain": [
              "array([[  0,   0,   0,   0,   0,   0,   0,   0,   0,   0,   0,   0,   0,\n",
              "          0,   0,   0,   0,  26,   0,   0,   0,   0,   0,   0,   0,   0,\n",
              "          0,   0],\n",
              "       [  0,   0,   0,   0,   0,   0,   0,   0, 189, 206, 187,  32,   0,\n",
              "          0,   0,  26, 217, 226, 196,  11,   0,   0,   0,   0,   0,   0,\n",
              "          0,   0],\n",
              "       [  0,   0,   0,   0,   0,   0,   0,   0, 192, 227, 234, 243, 230,\n",
              "        147, 239, 242, 234, 218, 209,   0,   0,   0,   0,   0,   0,   0,\n",
              "          0,   0],\n",
              "       [  0,   0,   0,   0,   0,   0,   0,   0, 173, 225, 215, 233, 254,\n",
              "          0, 194, 240, 217, 221, 190,   0,   0,   0,   0,   0,   0,   0,\n",
              "          0,   0],\n",
              "       [  0,   0,   0,   0,   0,   0,   0,   0, 139, 229, 212, 226, 255,\n",
              "          0, 162, 255, 213, 226, 200,   0,   0,   0,   0,   0,   0,   0,\n",
              "          0,   0],\n",
              "       [  0,   0,   0,   0,   0,   0,   0,   0,  98, 232, 211, 215, 249,\n",
              "         46, 162, 246, 214, 230, 186,   0,   0,   0,   0,   0,   0,   0,\n",
              "          0,   0],\n",
              "       [  0,   0,   0,   0,   0,   0,   0,   0,  70, 228, 213, 220, 224,\n",
              "        252, 239, 219, 217, 231, 171,   0,   0,   0,   0,   0,   0,   0,\n",
              "          0,   0],\n",
              "       [  0,   0,   0,   0,   0,   0,   0,   0,  45, 222, 214, 218, 216,\n",
              "        210, 215, 217, 202, 224, 172,   0,   0,   0,   0,   0,   0,   0,\n",
              "          0,   0],\n",
              "       [  0,   0,   0,   0,   0,   0,   0,   0,  24, 254, 214, 210, 211,\n",
              "        214, 215, 212, 203, 221, 167,   0,   0,   0,   0,   0,   0,   0,\n",
              "          0,   0],\n",
              "       [  0,   0,   0,   0,   0,   0,   0,   0,   0, 254, 216, 215, 217,\n",
              "        217, 216, 216, 206, 225, 150,   0,   0,   0,   0,   0,   0,   0,\n",
              "          0,   0],\n",
              "       [  0,   0,   0,   0,   0,   0,   0,   0,   0, 247, 216, 214, 217,\n",
              "        216, 214, 212, 203, 226, 136,   0,   0,   0,   0,   0,   0,   0,\n",
              "          0,   0],\n",
              "       [  0,   0,   0,   0,   0,   0,   0,   0,   0, 245, 216, 214, 216,\n",
              "        217, 215, 211, 204, 225, 125,   0,   0,   0,   0,   0,   0,   0,\n",
              "          0,   0],\n",
              "       [  0,   0,   0,   0,   0,   0,   0,   0,   0, 247, 216, 214, 217,\n",
              "        220, 217, 213, 203, 222, 147,   0,   0,   0,   0,   0,   0,   0,\n",
              "          0,   0],\n",
              "       [  0,   0,   0,   0,   0,   0,   0,   0,   0, 248, 216, 215, 218,\n",
              "        222, 216, 214, 207, 218, 179,   0,   0,   0,   0,   0,   0,   0,\n",
              "          0,   0],\n",
              "       [  0,   0,   0,   0,   0,   0,   0,   0,   0, 249, 216, 217, 219,\n",
              "        222, 217, 214, 210, 215, 211,   0,   0,   0,   0,   0,   0,   0,\n",
              "          0,   0],\n",
              "       [  0,   0,   0,   0,   0,   0,   0,   0,  38, 255, 214, 218, 219,\n",
              "        224, 218, 215, 211, 211, 231,   0,   0,   0,   0,   0,   0,   0,\n",
              "          0,   0],\n",
              "       [  0,   0,   0,   0,   0,   0,   0,   0,  79, 227, 209, 219, 219,\n",
              "        227, 219, 215, 213, 206, 254,  58,   0,   0,   0,   0,   0,   0,\n",
              "          0,   0],\n",
              "       [  0,   0,   0,   0,   0,   0,   0,   0, 146, 226, 211, 220, 219,\n",
              "        228, 218, 215, 216, 205, 219, 163,   0,   0,   0,   0,   0,   0,\n",
              "          0,   0],\n",
              "       [  0,   0,   0,   0,   0,   0,   0,   0, 202, 221, 214, 221, 219,\n",
              "        231, 218, 215, 218, 213, 212, 220,   0,   0,   0,   0,   0,   0,\n",
              "          0,   0],\n",
              "       [  0,   0,   0,   0,   0,   0,   0,   0, 234, 217, 216, 220, 219,\n",
              "        234, 217, 215, 218, 216, 223, 247,   7,   0,   0,   0,   0,   0,\n",
              "          0,   0],\n",
              "       [  0,   0,   0,   0,   0,   0,   0,  17, 254, 212, 219, 219, 220,\n",
              "        233, 214, 216, 219, 222, 153, 238,  58,   0,   0,   0,   0,   0,\n",
              "          0,   0],\n",
              "       [  0,   0,   0,   0,   0,   0,   0,  66, 255, 208, 220, 219, 222,\n",
              "        241, 220, 218, 218, 218, 192, 242,  99,   0,   0,   0,   0,   0,\n",
              "          0,   0],\n",
              "       [  0,   0,   0,   0,   0,   0,   0, 142, 235, 203, 218, 216, 231,\n",
              "        242, 225, 233, 219, 214, 216, 238, 144,   0,   0,   0,   0,   0,\n",
              "          0,   0],\n",
              "       [  0,   0,   0,   0,   0,   0,   0, 177, 248, 227, 229, 211, 255,\n",
              "         76,   0, 247, 243, 230, 230, 249, 187,   0,   0,   0,   0,   0,\n",
              "          0,   0],\n",
              "       [  0,   0,   0,   0,   0,   0,   0, 101, 241, 228, 228, 220, 255,\n",
              "         64,   0, 243, 237, 230, 227, 241, 142,   0,   0,   0,   0,   0,\n",
              "          0,   0],\n",
              "       [  0,   0,   0,   0,   0,   0,   0,   0, 255, 242, 222, 218, 255,\n",
              "         62,   0, 223, 238, 225, 238, 255,  31,   0,   0,   0,   0,   0,\n",
              "          0,   0],\n",
              "       [  0,   0,   0,   0,   0,   0,   0,   0,  45, 255, 242, 235, 255,\n",
              "         84,   0, 246, 255, 242, 255,  70,   0,   0,   0,   0,   0,   0,\n",
              "          0,   0],\n",
              "       [  0,   0,   0,   0,   0,   0,   0,   0,   0,   0,  61, 102, 168,\n",
              "         25,   0, 139, 161,  74,   0,   0,   0,   0,   0,   0,   0,   0,\n",
              "          0,   0]], dtype=uint8)"
            ],
            "text/html": [
              "<style>\n",
              "      .ndarray_repr .ndarray_raw_data {\n",
              "        display: none;\n",
              "      }\n",
              "      .ndarray_repr.show_array .ndarray_raw_data {\n",
              "        display: block;\n",
              "      }\n",
              "      .ndarray_repr.show_array .ndarray_image_preview {\n",
              "        display: none;\n",
              "      }\n",
              "      </style>\n",
              "      <div id=\"id-8f35fb07-cbe4-4a6f-82f7-c6f0670e578d\" class=\"ndarray_repr\"><pre>ndarray (28, 28) <button style=\"padding: 0 2px;\">show data</button></pre><img src=\"data:image/png;base64,iVBORw0KGgoAAAANSUhEUgAAABwAAAAcCAAAAABXZoBIAAABY0lEQVR4nG3OO0sDQRQF4HNmduMjGBWirg8wICgiCmKjgjaChVhaibVg4S/xV9jZ2FkpdtZpAoqCTyIKGh/RaJKZ3WuVCDO51eV8nDsDuDPkJcBp/iQHYOjy4SzdyILGovtGCl+HW7r60VVpZKqxlJLST7RbSN51CR7eBHGNuOu2YaePF1oq9Rn8Mig3sflm0arwKf/1qPnp41OdSfU8VJ9t9M++5FA1AQxj4zefoUIFCXTw7iNqEEiSxPz/UPMsEkBIoVRaNBVADSVxf4smQSphYHMtURGEjlvgeCohFEmb9XGyaAhNKDOw6OGKKIICLdc7Hs4bTWhAtdcWPMxZJdAC6PRwm4O9WaOFEpOp4985B2dpCdWeUmIngkkH119NEncw7KaN7LSDY11R2kSbo5moJ5OecvCoRunAN2wdcbUAZ6R8cyXLuH27f5NRF6el/CIb+JGyrLoGYGn7YBB7+2v/yR+rVoQPczXmPgAAAABJRU5ErkJggg==\" class=\"ndarray_image_preview\" /><pre class=\"ndarray_raw_data\">array([[  0,   0,   0,   0,   0,   0,   0,   0,   0,   0,   0,   0,   0,\n",
              "          0,   0,   0,   0,  26,   0,   0,   0,   0,   0,   0,   0,   0,\n",
              "          0,   0],\n",
              "       [  0,   0,   0,   0,   0,   0,   0,   0, 189, 206, 187,  32,   0,\n",
              "          0,   0,  26, 217, 226, 196,  11,   0,   0,   0,   0,   0,   0,\n",
              "          0,   0],\n",
              "       [  0,   0,   0,   0,   0,   0,   0,   0, 192, 227, 234, 243, 230,\n",
              "        147, 239, 242, 234, 218, 209,   0,   0,   0,   0,   0,   0,   0,\n",
              "          0,   0],\n",
              "       [  0,   0,   0,   0,   0,   0,   0,   0, 173, 225, 215, 233, 254,\n",
              "          0, 194, 240, 217, 221, 190,   0,   0,   0,   0,   0,   0,   0,\n",
              "          0,   0],\n",
              "       [  0,   0,   0,   0,   0,   0,   0,   0, 139, 229, 212, 226, 255,\n",
              "          0, 162, 255, 213, 226, 200,   0,   0,   0,   0,   0,   0,   0,\n",
              "          0,   0],\n",
              "       [  0,   0,   0,   0,   0,   0,   0,   0,  98, 232, 211, 215, 249,\n",
              "         46, 162, 246, 214, 230, 186,   0,   0,   0,   0,   0,   0,   0,\n",
              "          0,   0],\n",
              "       [  0,   0,   0,   0,   0,   0,   0,   0,  70, 228, 213, 220, 224,\n",
              "        252, 239, 219, 217, 231, 171,   0,   0,   0,   0,   0,   0,   0,\n",
              "          0,   0],\n",
              "       [  0,   0,   0,   0,   0,   0,   0,   0,  45, 222, 214, 218, 216,\n",
              "        210, 215, 217, 202, 224, 172,   0,   0,   0,   0,   0,   0,   0,\n",
              "          0,   0],\n",
              "       [  0,   0,   0,   0,   0,   0,   0,   0,  24, 254, 214, 210, 211,\n",
              "        214, 215, 212, 203, 221, 167,   0,   0,   0,   0,   0,   0,   0,\n",
              "          0,   0],\n",
              "       [  0,   0,   0,   0,   0,   0,   0,   0,   0, 254, 216, 215, 217,\n",
              "        217, 216, 216, 206, 225, 150,   0,   0,   0,   0,   0,   0,   0,\n",
              "          0,   0],\n",
              "       [  0,   0,   0,   0,   0,   0,   0,   0,   0, 247, 216, 214, 217,\n",
              "        216, 214, 212, 203, 226, 136,   0,   0,   0,   0,   0,   0,   0,\n",
              "          0,   0],\n",
              "       [  0,   0,   0,   0,   0,   0,   0,   0,   0, 245, 216, 214, 216,\n",
              "        217, 215, 211, 204, 225, 125,   0,   0,   0,   0,   0,   0,   0,\n",
              "          0,   0],\n",
              "       [  0,   0,   0,   0,   0,   0,   0,   0,   0, 247, 216, 214, 217,\n",
              "        220, 217, 213, 203, 222, 147,   0,   0,   0,   0,   0,   0,   0,\n",
              "          0,   0],\n",
              "       [  0,   0,   0,   0,   0,   0,   0,   0,   0, 248, 216, 215, 218,\n",
              "        222, 216, 214, 207, 218, 179,   0,   0,   0,   0,   0,   0,   0,\n",
              "          0,   0],\n",
              "       [  0,   0,   0,   0,   0,   0,   0,   0,   0, 249, 216, 217, 219,\n",
              "        222, 217, 214, 210, 215, 211,   0,   0,   0,   0,   0,   0,   0,\n",
              "          0,   0],\n",
              "       [  0,   0,   0,   0,   0,   0,   0,   0,  38, 255, 214, 218, 219,\n",
              "        224, 218, 215, 211, 211, 231,   0,   0,   0,   0,   0,   0,   0,\n",
              "          0,   0],\n",
              "       [  0,   0,   0,   0,   0,   0,   0,   0,  79, 227, 209, 219, 219,\n",
              "        227, 219, 215, 213, 206, 254,  58,   0,   0,   0,   0,   0,   0,\n",
              "          0,   0],\n",
              "       [  0,   0,   0,   0,   0,   0,   0,   0, 146, 226, 211, 220, 219,\n",
              "        228, 218, 215, 216, 205, 219, 163,   0,   0,   0,   0,   0,   0,\n",
              "          0,   0],\n",
              "       [  0,   0,   0,   0,   0,   0,   0,   0, 202, 221, 214, 221, 219,\n",
              "        231, 218, 215, 218, 213, 212, 220,   0,   0,   0,   0,   0,   0,\n",
              "          0,   0],\n",
              "       [  0,   0,   0,   0,   0,   0,   0,   0, 234, 217, 216, 220, 219,\n",
              "        234, 217, 215, 218, 216, 223, 247,   7,   0,   0,   0,   0,   0,\n",
              "          0,   0],\n",
              "       [  0,   0,   0,   0,   0,   0,   0,  17, 254, 212, 219, 219, 220,\n",
              "        233, 214, 216, 219, 222, 153, 238,  58,   0,   0,   0,   0,   0,\n",
              "          0,   0],\n",
              "       [  0,   0,   0,   0,   0,   0,   0,  66, 255, 208, 220, 219, 222,\n",
              "        241, 220, 218, 218, 218, 192, 242,  99,   0,   0,   0,   0,   0,\n",
              "          0,   0],\n",
              "       [  0,   0,   0,   0,   0,   0,   0, 142, 235, 203, 218, 216, 231,\n",
              "        242, 225, 233, 219, 214, 216, 238, 144,   0,   0,   0,   0,   0,\n",
              "          0,   0],\n",
              "       [  0,   0,   0,   0,   0,   0,   0, 177, 248, 227, 229, 211, 255,\n",
              "         76,   0, 247, 243, 230, 230, 249, 187,   0,   0,   0,   0,   0,\n",
              "          0,   0],\n",
              "       [  0,   0,   0,   0,   0,   0,   0, 101, 241, 228, 228, 220, 255,\n",
              "         64,   0, 243, 237, 230, 227, 241, 142,   0,   0,   0,   0,   0,\n",
              "          0,   0],\n",
              "       [  0,   0,   0,   0,   0,   0,   0,   0, 255, 242, 222, 218, 255,\n",
              "         62,   0, 223, 238, 225, 238, 255,  31,   0,   0,   0,   0,   0,\n",
              "          0,   0],\n",
              "       [  0,   0,   0,   0,   0,   0,   0,   0,  45, 255, 242, 235, 255,\n",
              "         84,   0, 246, 255, 242, 255,  70,   0,   0,   0,   0,   0,   0,\n",
              "          0,   0],\n",
              "       [  0,   0,   0,   0,   0,   0,   0,   0,   0,   0,  61, 102, 168,\n",
              "         25,   0, 139, 161,  74,   0,   0,   0,   0,   0,   0,   0,   0,\n",
              "          0,   0]], dtype=uint8)</pre></div><script>\n",
              "      (() => {\n",
              "      const titles = ['show data', 'hide data'];\n",
              "      let index = 0\n",
              "      document.querySelector('#id-8f35fb07-cbe4-4a6f-82f7-c6f0670e578d button').onclick = (e) => {\n",
              "        document.querySelector('#id-8f35fb07-cbe4-4a6f-82f7-c6f0670e578d').classList.toggle('show_array');\n",
              "        index = (++index) % 2;\n",
              "        document.querySelector('#id-8f35fb07-cbe4-4a6f-82f7-c6f0670e578d button').textContent = titles[index];\n",
              "        e.preventDefault();\n",
              "        e.stopPropagation();\n",
              "      }\n",
              "      })();\n",
              "    </script>"
            ]
          },
          "metadata": {},
          "execution_count": 10
        }
      ],
      "source": [
        "X_train[4]"
      ]
    },
    {
      "cell_type": "code",
      "execution_count": null,
      "metadata": {
        "colab": {
          "base_uri": "https://localhost:8080/"
        },
        "id": "e02MpPY3qzSO",
        "outputId": "93147ed5-d36e-4605-acaf-0e929405e086"
      },
      "outputs": [
        {
          "output_type": "execute_result",
          "data": {
            "text/plain": [
              "array([9, 0, 0, 3, 0, 2, 7, 2, 5, 5], dtype=uint8)"
            ]
          },
          "metadata": {},
          "execution_count": 11
        }
      ],
      "source": [
        "Y_train[:10]"
      ]
    },
    {
      "cell_type": "code",
      "execution_count": null,
      "metadata": {
        "colab": {
          "base_uri": "https://localhost:8080/",
          "height": 68
        },
        "id": "ECruGnv2pVZ1",
        "outputId": "39d78fc8-1a23-485f-ed07-6e1177e5ce17"
      },
      "outputs": [
        {
          "output_type": "execute_result",
          "data": {
            "text/plain": [
              "array([[  0,   0,   0,   2,   0,   1,   1,   0,   0,   0,   0,  57,  67,\n",
              "         73,  76,  76,  83,  62,   0,   0,   0,   0,   0,   0,   0,   0,\n",
              "          0,   0],\n",
              "       [  0,   0,   0,   1,   1,   1,   0,   0,  13,  79, 128, 201, 162,\n",
              "        161, 173, 192, 172, 181, 184, 108,  30,   0,   0,   0,   0,   0,\n",
              "          0,   0],\n",
              "       [  0,   0,   0,   0,   1,   0,   0, 102, 139, 142, 103, 115, 162,\n",
              "        154, 165, 153, 139, 129, 150, 138, 171, 161,  26,   0,   0,   0,\n",
              "          0,   0],\n",
              "       [  0,   0,   0,   1,   0,   0, 106, 124, 108, 103, 106,  93, 100,\n",
              "        180, 156, 147, 138,  85, 157, 114, 124, 154, 157,   0,   0,   0,\n",
              "          0,   0],\n",
              "       [  0,   0,   0,   2,   0,  29, 134, 101, 113, 108,  97, 116,  81,\n",
              "        146, 183, 164, 111, 146, 131, 122, 132, 145, 169,  93,   0,   1,\n",
              "          0,   0],\n",
              "       [  0,   0,   0,   0,   0,  65, 131, 105, 101, 108, 100, 104,  97,\n",
              "         74, 206, 174, 115, 150, 108, 119, 146, 152, 162, 141,   0,   0,\n",
              "          0,   0],\n",
              "       [  0,   0,   0,   0,   0, 108, 123, 112, 106,  98, 100, 101, 111,\n",
              "         72, 136, 132, 112, 115, 109, 142, 150, 160, 162, 195,   0,   0,\n",
              "          0,   0],\n",
              "       [  0,   0,   0,   0,   0, 135, 122, 119, 112,  83,  93,  97, 106,\n",
              "        115,  91, 109,  83, 109, 125, 165, 140, 193, 160, 176,   6,   0,\n",
              "          0,   0],\n",
              "       [  0,   0,   0,   0,  23, 135, 132, 149, 104,  78,  96,  97, 103,\n",
              "        108, 108, 115,  84, 114, 149, 158, 147, 209, 160, 178,  52,   0,\n",
              "          0,   0],\n",
              "       [  0,   0,   0,   0,  57, 124, 131, 160, 103,  96, 101, 109, 109,\n",
              "        111, 108, 114, 106, 113, 156, 163, 156, 196, 167, 174,  85,   0,\n",
              "          0,   0],\n",
              "       [  0,   0,   0,   0,  86, 116, 126, 160, 132, 102,  96, 104, 107,\n",
              "         98,  93, 123, 116, 112, 149, 160, 181, 186, 162, 162, 123,   0,\n",
              "          0,   0],\n",
              "       [  0,   0,   0,   0, 112, 114, 112, 167, 146, 100, 100, 101, 107,\n",
              "         96, 100, 126, 103, 120, 141, 158, 167, 187, 147, 148, 170,   0,\n",
              "          0,   0],\n",
              "       [  0,   0,   0,   0, 124, 118, 101, 197,  89, 101, 100,  96, 108,\n",
              "        103, 108, 122, 107, 127, 139, 150, 119, 196, 145, 142, 179,   0,\n",
              "          0,   0],\n",
              "       [  0,   0,   0,   0, 131, 115,  97, 198,  47, 108,  96,  96, 106,\n",
              "        119, 102, 120, 103, 123, 140, 150,  81, 206, 146, 135, 194,   0,\n",
              "          0,   0],\n",
              "       [  0,   0,   0,   4, 136, 118,  98, 193,  21, 109,  96, 106, 102,\n",
              "        129, 100, 119, 102, 118, 141, 153,  45, 216, 148, 139, 205,  12,\n",
              "          0,   0],\n",
              "       [  0,   0,   0,  24, 137, 117, 101, 187,  25, 113,  92, 112,  94,\n",
              "        120, 105, 127,  97, 115, 142, 150,  19, 213, 148, 131, 204,  36,\n",
              "          0,   0],\n",
              "       [  0,   0,   0,  40, 141, 109, 117, 158,  12, 124,  90, 116,  96,\n",
              "        117, 113, 136,  94, 111, 147, 163,  31, 191, 146, 134, 206,  58,\n",
              "          0,   0],\n",
              "       [  0,   0,   0,  39, 129, 102, 147, 119,   0, 120,  90, 119, 101,\n",
              "        116, 106, 127, 102, 114, 146, 180,  20, 146, 159, 129, 204,  70,\n",
              "          0,   0],\n",
              "       [  0,   0,   0,  58, 126, 111, 162, 101,  21, 132,  89, 123, 108,\n",
              "        106, 102, 126, 111, 116, 141, 178,  50, 112, 169, 138, 164,  84,\n",
              "          0,   0],\n",
              "       [  0,   0,   0, 108, 134, 134, 185,  84,  73, 123,  87, 122, 111,\n",
              "        102, 106, 128, 114, 109, 134, 174,  97,  98, 160, 147, 175, 135,\n",
              "          0,   0],\n",
              "       [  0,   0,   0,  97, 142, 169, 198,  37,  84, 107,  97, 122, 112,\n",
              "        109, 112, 126, 102,  96, 131, 172, 128,  51, 254, 168, 164, 111,\n",
              "          0,   0],\n",
              "       [  0,   0,   0,   0,   0,  12,  46,   2, 119, 102, 109, 123,  96,\n",
              "        116, 122, 132, 106, 106, 129, 151, 184,  26,  20,   8,   0,   0,\n",
              "          0,   0],\n",
              "       [  0,   0,   0,   0,   0,   0,   0,  13, 137, 101, 114, 100, 106,\n",
              "        134, 135, 129, 104, 111, 123, 151, 194,  74,   0,   0,   0,   0,\n",
              "          0,   0],\n",
              "       [  0,   0,   0,   0,   1,   3,   0,  73, 132, 101, 104, 102, 140,\n",
              "        108, 108, 131, 106, 119, 113, 142, 167, 135,   0,   1,   0,   0,\n",
              "          0,   0],\n",
              "       [  0,   0,   0,   0,   0,   0,   0, 112, 118, 107, 104, 139, 109,\n",
              "         97, 123, 138, 107, 127, 120, 136, 161, 159,   0,   0,   1,   0,\n",
              "          0,   0],\n",
              "       [  0,   0,   0,   0,   0,   3,   0, 142, 148, 112, 105, 101,  83,\n",
              "        125, 123, 143, 104, 115, 100, 126, 168, 178,   7,   0,   2,   0,\n",
              "          0,   0],\n",
              "       [  0,   0,   0,   0,   0,   2,   0,   9, 126, 184, 200, 167, 163,\n",
              "        171, 150, 167, 156, 174, 197, 182, 162,  61,   0,   0,   0,   0,\n",
              "          0,   0],\n",
              "       [  0,   0,   0,   0,   0,   0,   0,   0,   0,   0,  30,  72,  95,\n",
              "        109, 111, 111, 106, 101,  71,  12,   0,   0,   0,   0,   0,   0,\n",
              "          0,   0]], dtype=uint8)"
            ],
            "text/html": [
              "<style>\n",
              "      .ndarray_repr .ndarray_raw_data {\n",
              "        display: none;\n",
              "      }\n",
              "      .ndarray_repr.show_array .ndarray_raw_data {\n",
              "        display: block;\n",
              "      }\n",
              "      .ndarray_repr.show_array .ndarray_image_preview {\n",
              "        display: none;\n",
              "      }\n",
              "      </style>\n",
              "      <div id=\"id-4625f5c2-4ffc-42c3-8d97-e0dcb431f0c8\" class=\"ndarray_repr\"><pre>ndarray (28, 28) <button style=\"padding: 0 2px;\">show data</button></pre><img src=\"data:image/png;base64,iVBORw0KGgoAAAANSUhEUgAAABwAAAAcCAAAAABXZoBIAAACQklEQVR4nEXSTU8TURQG4PfOvTN3ZjotbYEO8lFTFE0kEfyIiUY27vwRunDhwj0L1/4M/4VxYVxijFsRYixRDJBWCkVsO53P++FimHKSszlP8m7OSwAYikADeOhaFPx0C8WQfDXKT+48bWtvuu/Q9+8OLxFE4+UKbXtrcSkYhrNBK3zdBQAjt1eNgzY92ZqPUr3Lj7eTN5gglhZ7phn5Z/sLtc5G17Yj7xlIjgrXJQtAg+oH32WsJys8WYcGGABgNeYkNGTlz0chfxGf2XhQxAILmluDRGSrO72jtOqHLXVmFejDbcYZhUxqFjHnEl6FcbvA5bEu6brpWRS6obnpjLhoFbgUZ1iyskyNBo6rE3klzIIbBc6rIa8oJqE4HdmxGpLBcK1Aj42bXwgywm3BuIq/Oip1CuRSkO9cQFVTJQTBnkuSqQtkJiVZl8AVrtI6I/Sna7CSl+MM0TRlTFhxZNqZJLIrEeu5HKssrh6NSooZ0nakMMveiaJGI0cdJM12IEBNnUQ21bXxTjlTF7HT0pn6O+tpxkOhHSNTzX3X+VHJ8a7t++f3I6WpYAZNErE2jJzSvRzH9rXydumfC8ItFYykurr9fHZ8fFETeMu7m+e80pmx3C78RutFGsSTlwXfSnVt9tx6WSozhbvejyf/JBSPM4TGcrdjGHYYdTbyRAMAtMTNoYWVg/EUJzZP0zloMomlaDZNstddhCmDfsineVFoAIZyNh9Vfwv7tDau+4P+20+Xpc6necuvGMiyw8/BxeU/FXf+1WoZ6z8AAAAASUVORK5CYII=\" class=\"ndarray_image_preview\" /><pre class=\"ndarray_raw_data\">array([[  0,   0,   0,   2,   0,   1,   1,   0,   0,   0,   0,  57,  67,\n",
              "         73,  76,  76,  83,  62,   0,   0,   0,   0,   0,   0,   0,   0,\n",
              "          0,   0],\n",
              "       [  0,   0,   0,   1,   1,   1,   0,   0,  13,  79, 128, 201, 162,\n",
              "        161, 173, 192, 172, 181, 184, 108,  30,   0,   0,   0,   0,   0,\n",
              "          0,   0],\n",
              "       [  0,   0,   0,   0,   1,   0,   0, 102, 139, 142, 103, 115, 162,\n",
              "        154, 165, 153, 139, 129, 150, 138, 171, 161,  26,   0,   0,   0,\n",
              "          0,   0],\n",
              "       [  0,   0,   0,   1,   0,   0, 106, 124, 108, 103, 106,  93, 100,\n",
              "        180, 156, 147, 138,  85, 157, 114, 124, 154, 157,   0,   0,   0,\n",
              "          0,   0],\n",
              "       [  0,   0,   0,   2,   0,  29, 134, 101, 113, 108,  97, 116,  81,\n",
              "        146, 183, 164, 111, 146, 131, 122, 132, 145, 169,  93,   0,   1,\n",
              "          0,   0],\n",
              "       [  0,   0,   0,   0,   0,  65, 131, 105, 101, 108, 100, 104,  97,\n",
              "         74, 206, 174, 115, 150, 108, 119, 146, 152, 162, 141,   0,   0,\n",
              "          0,   0],\n",
              "       [  0,   0,   0,   0,   0, 108, 123, 112, 106,  98, 100, 101, 111,\n",
              "         72, 136, 132, 112, 115, 109, 142, 150, 160, 162, 195,   0,   0,\n",
              "          0,   0],\n",
              "       [  0,   0,   0,   0,   0, 135, 122, 119, 112,  83,  93,  97, 106,\n",
              "        115,  91, 109,  83, 109, 125, 165, 140, 193, 160, 176,   6,   0,\n",
              "          0,   0],\n",
              "       [  0,   0,   0,   0,  23, 135, 132, 149, 104,  78,  96,  97, 103,\n",
              "        108, 108, 115,  84, 114, 149, 158, 147, 209, 160, 178,  52,   0,\n",
              "          0,   0],\n",
              "       [  0,   0,   0,   0,  57, 124, 131, 160, 103,  96, 101, 109, 109,\n",
              "        111, 108, 114, 106, 113, 156, 163, 156, 196, 167, 174,  85,   0,\n",
              "          0,   0],\n",
              "       [  0,   0,   0,   0,  86, 116, 126, 160, 132, 102,  96, 104, 107,\n",
              "         98,  93, 123, 116, 112, 149, 160, 181, 186, 162, 162, 123,   0,\n",
              "          0,   0],\n",
              "       [  0,   0,   0,   0, 112, 114, 112, 167, 146, 100, 100, 101, 107,\n",
              "         96, 100, 126, 103, 120, 141, 158, 167, 187, 147, 148, 170,   0,\n",
              "          0,   0],\n",
              "       [  0,   0,   0,   0, 124, 118, 101, 197,  89, 101, 100,  96, 108,\n",
              "        103, 108, 122, 107, 127, 139, 150, 119, 196, 145, 142, 179,   0,\n",
              "          0,   0],\n",
              "       [  0,   0,   0,   0, 131, 115,  97, 198,  47, 108,  96,  96, 106,\n",
              "        119, 102, 120, 103, 123, 140, 150,  81, 206, 146, 135, 194,   0,\n",
              "          0,   0],\n",
              "       [  0,   0,   0,   4, 136, 118,  98, 193,  21, 109,  96, 106, 102,\n",
              "        129, 100, 119, 102, 118, 141, 153,  45, 216, 148, 139, 205,  12,\n",
              "          0,   0],\n",
              "       [  0,   0,   0,  24, 137, 117, 101, 187,  25, 113,  92, 112,  94,\n",
              "        120, 105, 127,  97, 115, 142, 150,  19, 213, 148, 131, 204,  36,\n",
              "          0,   0],\n",
              "       [  0,   0,   0,  40, 141, 109, 117, 158,  12, 124,  90, 116,  96,\n",
              "        117, 113, 136,  94, 111, 147, 163,  31, 191, 146, 134, 206,  58,\n",
              "          0,   0],\n",
              "       [  0,   0,   0,  39, 129, 102, 147, 119,   0, 120,  90, 119, 101,\n",
              "        116, 106, 127, 102, 114, 146, 180,  20, 146, 159, 129, 204,  70,\n",
              "          0,   0],\n",
              "       [  0,   0,   0,  58, 126, 111, 162, 101,  21, 132,  89, 123, 108,\n",
              "        106, 102, 126, 111, 116, 141, 178,  50, 112, 169, 138, 164,  84,\n",
              "          0,   0],\n",
              "       [  0,   0,   0, 108, 134, 134, 185,  84,  73, 123,  87, 122, 111,\n",
              "        102, 106, 128, 114, 109, 134, 174,  97,  98, 160, 147, 175, 135,\n",
              "          0,   0],\n",
              "       [  0,   0,   0,  97, 142, 169, 198,  37,  84, 107,  97, 122, 112,\n",
              "        109, 112, 126, 102,  96, 131, 172, 128,  51, 254, 168, 164, 111,\n",
              "          0,   0],\n",
              "       [  0,   0,   0,   0,   0,  12,  46,   2, 119, 102, 109, 123,  96,\n",
              "        116, 122, 132, 106, 106, 129, 151, 184,  26,  20,   8,   0,   0,\n",
              "          0,   0],\n",
              "       [  0,   0,   0,   0,   0,   0,   0,  13, 137, 101, 114, 100, 106,\n",
              "        134, 135, 129, 104, 111, 123, 151, 194,  74,   0,   0,   0,   0,\n",
              "          0,   0],\n",
              "       [  0,   0,   0,   0,   1,   3,   0,  73, 132, 101, 104, 102, 140,\n",
              "        108, 108, 131, 106, 119, 113, 142, 167, 135,   0,   1,   0,   0,\n",
              "          0,   0],\n",
              "       [  0,   0,   0,   0,   0,   0,   0, 112, 118, 107, 104, 139, 109,\n",
              "         97, 123, 138, 107, 127, 120, 136, 161, 159,   0,   0,   1,   0,\n",
              "          0,   0],\n",
              "       [  0,   0,   0,   0,   0,   3,   0, 142, 148, 112, 105, 101,  83,\n",
              "        125, 123, 143, 104, 115, 100, 126, 168, 178,   7,   0,   2,   0,\n",
              "          0,   0],\n",
              "       [  0,   0,   0,   0,   0,   2,   0,   9, 126, 184, 200, 167, 163,\n",
              "        171, 150, 167, 156, 174, 197, 182, 162,  61,   0,   0,   0,   0,\n",
              "          0,   0],\n",
              "       [  0,   0,   0,   0,   0,   0,   0,   0,   0,   0,  30,  72,  95,\n",
              "        109, 111, 111, 106, 101,  71,  12,   0,   0,   0,   0,   0,   0,\n",
              "          0,   0]], dtype=uint8)</pre></div><script>\n",
              "      (() => {\n",
              "      const titles = ['show data', 'hide data'];\n",
              "      let index = 0\n",
              "      document.querySelector('#id-4625f5c2-4ffc-42c3-8d97-e0dcb431f0c8 button').onclick = (e) => {\n",
              "        document.querySelector('#id-4625f5c2-4ffc-42c3-8d97-e0dcb431f0c8').classList.toggle('show_array');\n",
              "        index = (++index) % 2;\n",
              "        document.querySelector('#id-4625f5c2-4ffc-42c3-8d97-e0dcb431f0c8 button').textContent = titles[index];\n",
              "        e.preventDefault();\n",
              "        e.stopPropagation();\n",
              "      }\n",
              "      })();\n",
              "    </script>"
            ]
          },
          "metadata": {},
          "execution_count": 12
        }
      ],
      "source": [
        "X_test[4]"
      ]
    },
    {
      "cell_type": "code",
      "execution_count": null,
      "metadata": {
        "id": "OjqsNR0kp-Wf"
      },
      "outputs": [],
      "source": [
        "class_names = [\"Top\", \"Trouser\", \"Pullover\", \"Dress\", \"Coat\", \"Sandal\", \"Shirt\", \"Sneaker\", \"Bag\", \"Ankle Boot\"]"
      ]
    },
    {
      "cell_type": "code",
      "execution_count": null,
      "metadata": {
        "id": "hP848miRs_KY"
      },
      "outputs": [],
      "source": [
        "X_train = X_train / 255.0\n",
        "X_test = X_test / 255.0"
      ]
    },
    {
      "cell_type": "code",
      "execution_count": null,
      "metadata": {
        "id": "GhPr7tQxuFjH",
        "colab": {
          "base_uri": "https://localhost:8080/"
        },
        "outputId": "7dff23b5-6181-4b7d-97ad-97eea3541b56"
      },
      "outputs": [
        {
          "output_type": "stream",
          "name": "stderr",
          "text": [
            "/usr/local/lib/python3.11/dist-packages/keras/src/layers/convolutional/base_conv.py:107: UserWarning: Do not pass an `input_shape`/`input_dim` argument to a layer. When using Sequential models, prefer using an `Input(shape)` object as the first layer in the model instead.\n",
            "  super().__init__(activity_regularizer=activity_regularizer, **kwargs)\n"
          ]
        }
      ],
      "source": [
        "model = Sequential([\n",
        "    Conv2D(32, (3, 3), activation='elu', padding = 'same', input_shape=(28, 28, 1)),\n",
        "    MaxPooling2D((2, 2)),\n",
        "    Conv2D(64, (3, 3), activation='elu', padding = 'same'),\n",
        "    Conv2D(64, (3, 3), activation='elu', padding = 'same'),\n",
        "    MaxPooling2D((2, 2)),\n",
        "    Conv2D(128, (3, 3), activation='elu',padding = 'same'),\n",
        "    Conv2D(128, (3, 3), activation='elu',),\n",
        "    MaxPooling2D((2, 2)),\n",
        "\n",
        "    Flatten(),\n",
        "    Dense(128, activation='elu'),\n",
        "#    Dropout(0.3),\n",
        "    Dense(10, activation='softmax')\n",
        "])"
      ]
    },
    {
      "cell_type": "code",
      "execution_count": null,
      "metadata": {
        "colab": {
          "base_uri": "https://localhost:8080/"
        },
        "id": "lywOAKmJvZhy",
        "outputId": "72850f04-4dce-4097-fc0a-eeab46eedb80"
      },
      "outputs": [
        {
          "output_type": "stream",
          "name": "stdout",
          "text": [
            "Epoch 1/5\n",
            "\u001b[1m1875/1875\u001b[0m \u001b[32m━━━━━━━━━━━━━━━━━━━━\u001b[0m\u001b[37m\u001b[0m \u001b[1m201s\u001b[0m 107ms/step - accuracy: 0.6779 - loss: 0.9598\n",
            "Epoch 2/5\n",
            "\u001b[1m1875/1875\u001b[0m \u001b[32m━━━━━━━━━━━━━━━━━━━━\u001b[0m\u001b[37m\u001b[0m \u001b[1m201s\u001b[0m 106ms/step - accuracy: 0.8415 - loss: 0.4338\n",
            "Epoch 3/5\n",
            "\u001b[1m1875/1875\u001b[0m \u001b[32m━━━━━━━━━━━━━━━━━━━━\u001b[0m\u001b[37m\u001b[0m \u001b[1m197s\u001b[0m 105ms/step - accuracy: 0.8678 - loss: 0.3597\n",
            "Epoch 4/5\n",
            "\u001b[1m1875/1875\u001b[0m \u001b[32m━━━━━━━━━━━━━━━━━━━━\u001b[0m\u001b[37m\u001b[0m \u001b[1m198s\u001b[0m 106ms/step - accuracy: 0.8797 - loss: 0.3257\n",
            "Epoch 5/5\n",
            "\u001b[1m1875/1875\u001b[0m \u001b[32m━━━━━━━━━━━━━━━━━━━━\u001b[0m\u001b[37m\u001b[0m \u001b[1m201s\u001b[0m 107ms/step - accuracy: 0.8911 - loss: 0.2963\n"
          ]
        },
        {
          "output_type": "execute_result",
          "data": {
            "text/plain": [
              "<keras.src.callbacks.history.History at 0x78b4d4604910>"
            ]
          },
          "metadata": {},
          "execution_count": 16
        }
      ],
      "source": [
        "model.compile(optimizer = \"SGD\",\n",
        "              loss = \"sparse_categorical_crossentropy\",\n",
        "              metrics = [\"accuracy\"])\n",
        "model.fit(X_train, Y_train, epochs = 5)"
      ]
    },
    {
      "cell_type": "code",
      "execution_count": null,
      "metadata": {
        "colab": {
          "base_uri": "https://localhost:8080/"
        },
        "id": "eL62CR2NFgRs",
        "outputId": "13a31bda-e186-4284-b184-2b492321f8d6"
      },
      "outputs": [
        {
          "output_type": "stream",
          "name": "stdout",
          "text": [
            "\u001b[1m313/313\u001b[0m \u001b[32m━━━━━━━━━━━━━━━━━━━━\u001b[0m\u001b[37m\u001b[0m \u001b[1m10s\u001b[0m 32ms/step - accuracy: 0.8854 - loss: 0.3259\n"
          ]
        }
      ],
      "source": [
        "eval = model.evaluate(X_test, Y_test)"
      ]
    },
    {
      "cell_type": "code",
      "execution_count": null,
      "metadata": {
        "colab": {
          "base_uri": "https://localhost:8080/",
          "height": 177
        },
        "id": "TgFJtWehFgnv",
        "outputId": "dccc3559-b05b-435c-aa5b-1e1191c6d9f5"
      },
      "outputs": [
        {
          "output_type": "display_data",
          "data": {
            "text/plain": [
              "<Figure size 100x100 with 1 Axes>"
            ],
            "image/png": "[encoded data removed]"
          },
          "metadata": {}
        },
        {
          "output_type": "stream",
          "name": "stdout",
          "text": [
            "\u001b[1m313/313\u001b[0m \u001b[32m━━━━━━━━━━━━━━━━━━━━\u001b[0m\u001b[37m\u001b[0m \u001b[1m10s\u001b[0m 31ms/step\n",
            "It is a Pullover\n"
          ]
        }
      ],
      "source": [
        "game = random.randint(0,len(Y_test-1))\n",
        "plt.figure(figsize=(1,1))\n",
        "plt.imshow(X_test[game])\n",
        "plt.show()\n",
        "\n",
        "Y_pred = model.predict(X_test)\n",
        "p = np.argmax(Y_pred[game])\n",
        "print(\"It is a\", class_names[p])\n"
      ]
    }
  ],
  "metadata": {
    "colab": {
      "provenance": []
    },
    "kernelspec": {
      "display_name": "Python 3",
      "name": "python3"
    },
    "language_info": {
      "name": "python"
    }
  },
  "nbformat": 4,
  "nbformat_minor": 0
}